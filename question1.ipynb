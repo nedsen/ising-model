{
 "cells": [
  {
   "cell_type": "code",
   "execution_count": 2,
   "id": "a16760e2",
   "metadata": {},
   "outputs": [],
   "source": [
    "import numpy as np\n",
    "import matplotlib.pyplot as plt\n",
    "from ising1d import compute_energy1d, run_ising1d"
   ]
  },
  {
   "cell_type": "code",
   "execution_count": 3,
   "id": "46f48123",
   "metadata": {},
   "outputs": [],
   "source": [
    "def plot_state(state):\n",
    "    state_for_plotting = np.tile((state + 1) / 2, (10,1))\n",
    "    plt.imshow(state_for_plotting, cmap='gray')"
   ]
  },
  {
   "cell_type": "code",
   "execution_count": 11,
   "id": "d811a263",
   "metadata": {},
   "outputs": [
    {
     "data": {
      "image/png": "[encoded data removed]",
      "text/plain": [
       "<Figure size 640x480 with 1 Axes>"
      ]
     },
     "metadata": {},
     "output_type": "display_data"
    }
   ],
   "source": [
    "final_stateT05 = run_ising1d(N=100, T=0.5, niters=100000)\n",
    "plot_state(final_stateT05)"
   ]
  },
  {
   "cell_type": "code",
   "execution_count": 12,
   "id": "aa775a64",
   "metadata": {},
   "outputs": [
    {
     "data": {
      "image/png": "[encoded data removed]",
      "text/plain": [
       "<Figure size 640x480 with 1 Axes>"
      ]
     },
     "metadata": {},
     "output_type": "display_data"
    }
   ],
   "source": [
    "final_stateT1 = run_ising1d(N=100, T=1, niters=100000)\n",
    "plot_state(final_stateT1)"
   ]
  },
  {
   "cell_type": "code",
   "execution_count": 13,
   "id": "479211f6",
   "metadata": {},
   "outputs": [
    {
     "data": {
      "image/png": "[encoded data removed]",
      "text/plain": [
       "<Figure size 640x480 with 1 Axes>"
      ]
     },
     "metadata": {},
     "output_type": "display_data"
    }
   ],
   "source": [
    "final_stateT2 = run_ising1d(N=100, T=2, niters=100000)\n",
    "plot_state(final_stateT2)"
   ]
  },
  {
   "cell_type": "code",
   "execution_count": null,
   "id": "73f146b9",
   "metadata": {},
   "outputs": [],
   "source": []
  }
 ],
 "metadata": {
  "kernelspec": {
   "display_name": "Python 3",
   "language": "python",
   "name": "python3"
  },
  "language_info": {
   "codemirror_mode": {
    "name": "ipython",
    "version": 3
   },
   "file_extension": ".py",
   "mimetype": "text/x-python",
   "name": "python",
   "nbconvert_exporter": "python",
   "pygments_lexer": "ipython3",
   "version": "3.11.4"
  }
 },
 "nbformat": 4,
 "nbformat_minor": 5
}
